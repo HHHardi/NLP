{
 "cells": [
  {
   "cell_type": "code",
   "execution_count": 120,
   "metadata": {
    "collapsed": true
   },
   "outputs": [],
   "source": [
    "import nltk\n",
    "\n",
    "# movie review sentences\n",
    "from nltk.corpus import sentence_polarity\n",
    "import random\n",
    "import json\n",
    "import csv\n",
    "import nltk\n",
    "from nltk.book import *\n",
    "from nltk.corpus import stopwords\n",
    "from nltk import word_tokenize\n",
    "from nltk.collocations import *\n",
    "from nltk.collocations import BigramCollocationFinder\n",
    "import re\n",
    "from nltk.corpus import treebank"
   ]
  },
  {
   "cell_type": "code",
   "execution_count": 161,
   "outputs": [],
   "source": [
    "# get the 1500 most frequently appearing keywords in the corpus\n",
    "word_items = all_words.most_common(1500)\n",
    "word_features = [word for (word,count) in word_items]"
   ],
   "metadata": {
    "collapsed": false,
    "pycharm": {
     "name": "#%%\n"
    }
   }
  },
  {
   "cell_type": "code",
   "execution_count": 122,
   "outputs": [],
   "source": [
    "## Pre-processing: repeat the setup of the movie review sentences for classification\n",
    "# for each sentence(document), get its words and category (positive/negative)\n",
    "documents = [(sent, cat) for cat in sentence_polarity.categories()\n",
    "    for sent in sentence_polarity.sents(categories=cat)]\n",
    "\n",
    "\n",
    "random.shuffle(documents)"
   ],
   "metadata": {
    "collapsed": false,
    "pycharm": {
     "name": "#%%\n"
    }
   }
  },
  {
   "cell_type": "code",
   "execution_count": 123,
   "outputs": [],
   "source": [
    "# get all words from all movie_reviews and put into a frequency distribution\n",
    "#   note lowercase, but no stemming or stopwords\n",
    "all_words_list = [word for (sent,cat) in documents for word in sent]\n",
    "all_words = nltk.FreqDist(all_words_list)\n"
   ],
   "metadata": {
    "collapsed": false,
    "pycharm": {
     "name": "#%%\n"
    }
   }
  },
  {
   "cell_type": "code",
   "execution_count": 124,
   "outputs": [],
   "source": [
    "# define features (keywords) of a document for a BOW/unigram baseline\n",
    "# each feature is 'contains(keyword)' and is true or false depending\n",
    "# on whether that keyword is in the document\n",
    "def document_features(document, word_features):\n",
    "    document_words = set(document)\n",
    "    features = {}\n",
    "    for word in word_features:\n",
    "        features['V_{}'.format(word)] = (word in document_words)\n",
    "    return features"
   ],
   "metadata": {
    "collapsed": false,
    "pycharm": {
     "name": "#%%\n"
    }
   }
  },
  {
   "cell_type": "code",
   "execution_count": 125,
   "outputs": [],
   "source": [
    "# get features sets for a document, including keyword features and category feature\n",
    "featuresets = [(document_features(d, word_features), c) for (d, c) in documents]"
   ],
   "metadata": {
    "collapsed": false,
    "pycharm": {
     "name": "#%%\n"
    }
   }
  },
  {
   "cell_type": "code",
   "execution_count": 164,
   "outputs": [],
   "source": [
    "# training using naive Baysian classifier, testing set is 10% of data\n",
    "train_set, test_set = featuresets[1000:], featuresets[:1000]\n",
    "classifier = nltk.NaiveBayesClassifier.train(train_set)"
   ],
   "metadata": {
    "collapsed": false,
    "pycharm": {
     "name": "#%%\n"
    }
   }
  },
  {
   "cell_type": "code",
   "execution_count": 165,
   "outputs": [
    {
     "data": {
      "text/plain": "0.732"
     },
     "execution_count": 165,
     "metadata": {},
     "output_type": "execute_result"
    }
   ],
   "source": [
    "# evaluate the accuracy of the classifier\n",
    "nltk.classify.accuracy(classifier, test_set)\n",
    "# the accuracy result may vary since we randomized the documents"
   ],
   "metadata": {
    "collapsed": false,
    "pycharm": {
     "name": "#%%\n"
    }
   }
  },
  {
   "cell_type": "markdown",
   "source": [
    "---"
   ],
   "metadata": {
    "collapsed": false,
    "pycharm": {
     "name": "#%% md\n"
    }
   }
  },
  {
   "cell_type": "code",
   "execution_count": 185,
   "outputs": [],
   "source": [
    "# set up for using bigrams\n",
    "from nltk.collocations import *\n",
    "bigram_measures = nltk.collocations.BigramAssocMeasures()"
   ],
   "metadata": {
    "collapsed": false,
    "pycharm": {
     "name": "#%%\n"
    }
   }
  },
  {
   "cell_type": "code",
   "execution_count": 186,
   "outputs": [
    {
     "name": "stdout",
     "output_type": "stream",
     "text": [
      "['an', 'undistinguished', 'attempt', 'to', 'make', 'a', 'classic', 'theater', 'piece', 'cinematic', '.', 'effective', 'in', 'all', 'its', 'aspects', ',', 'margarita', 'happy', 'hour', 'represents', 'an', 'auspicious', 'feature', 'debut', 'for', 'chaiken', '.', 'this', 'strenuously', 'unfunny', 'showtime', 'deserves', 'the', 'hook', '.', 'despite', 'some', 'strong', 'performances', ',', 'never', 'rises', 'above', 'the', 'level', 'of', 'a', 'telanovela', '.']\n"
     ]
    }
   ],
   "source": [
    "# create the bigram finder on all the words in sequence\n",
    "print(all_words_list[:50])\n",
    "finder = BigramCollocationFinder.from_words(all_words_list)"
   ],
   "metadata": {
    "collapsed": false,
    "pycharm": {
     "name": "#%%\n"
    }
   }
  },
  {
   "cell_type": "code",
   "execution_count": 187,
   "outputs": [
    {
     "name": "stdout",
     "output_type": "stream",
     "text": [
      "[(\"''independent\", \"film''\"), (\"'60s-homage\", 'pokepie'), (\"'[the\", 'cockettes]'), (\"'ace\", \"ventura'\"), (\"'alternate\", \"reality'\"), (\"'aunque\", 'recurre'), (\"'black\", \"culture'\"), (\"'blue\", \"crush'\"), (\"'chan\", \"moment'\"), (\"'chick\", \"flicks'\"), (\"'date\", \"movie'\"), (\"'ethnic\", 'cleansing'), (\"'face\", \"value'\"), (\"'fully\", \"experienced'\"), (\"'jason\", \"x'\"), (\"'juvenile\", \"delinquent'\"), (\"'laugh\", \"therapy'\"), (\"'masterpiece\", \"theatre'\"), (\"'nicholas\", \"nickleby'\"), (\"'old\", \"neighborhood'\"), (\"'opening\", \"up'\"), (\"'rare\", \"birds'\"), (\"'sacre\", 'bleu'), (\"'science\", \"fiction'\"), (\"'shindler's\", \"list'\"), (\"'snow\", \"dogs'\"), (\"'some\", \"body'\"), (\"'special\", \"effects'\"), (\"'terrible\", \"filmmaking'\"), (\"'time\", \"waster'\"), (\"'true\", \"story'\"), (\"'unfaithful'\", 'cheats'), (\"'very\", \"sneaky'\"), (\"'we're\", '-doing-it-for'), (\"'who's\", \"who'\"), ('-after', 'spangle'), ('-as-it-', 'thinks-it-is'), ('-as-nasty', '-as-it-'), ('-doing-it-for', \"-the-cash'\"), ('10-course', 'banquet'), ('10-year', 'delay'), ('15-cent', 'stump'), ('18-year-old', 'mistress'), (\"1950's\", 'doris'), (\"1983's\", 'koyaanisqatsi'), ('1986', 'harlem'), (\"1988's\", 'powaqqatsi'), ('1992', 'malfitano-domingo'), (\"1992's\", 'unforgiven'), ('22-year-old', 'girlfriend')]\n"
     ]
    }
   ],
   "source": [
    "# define the top 500 bigrams using the chi squared measure\n",
    "bigram_features = finder.nbest(bigram_measures.chi_sq, 500)\n",
    "print(bigram_features[:50])"
   ],
   "metadata": {
    "collapsed": false,
    "pycharm": {
     "name": "#%%\n"
    }
   }
  },
  {
   "cell_type": "code",
   "execution_count": 188,
   "outputs": [
    {
     "name": "stdout",
     "output_type": "stream",
     "text": [
      "[('Arthur', 'carefully'), ('carefully', 'rode'), ('rode', 'the'), ('the', 'brown'), ('brown', 'horse'), ('horse', 'around'), ('around', 'the'), ('the', 'castle')]\n"
     ]
    }
   ],
   "source": [
    "# examples to demonstrate the bigram feature function definition\n",
    "sent = ['Arthur','carefully','rode','the','brown','horse','around','the','castle']\n",
    "sentbigrams = list(nltk.bigrams(sent))\n",
    "print(sentbigrams)"
   ],
   "metadata": {
    "collapsed": false,
    "pycharm": {
     "name": "#%%\n"
    }
   }
  },
  {
   "cell_type": "code",
   "execution_count": 189,
   "outputs": [
    {
     "name": "stdout",
     "output_type": "stream",
     "text": [
      "True\n",
      "B_brown_horse\n"
     ]
    }
   ],
   "source": [
    "# for a single bigram, test if it's in the sentence bigrams and format the feature name\n",
    "bigram = ('brown','horse')\n",
    "print(bigram in sentbigrams)\n",
    "print('B_{}_{}'.format(bigram[0], bigram[1]))"
   ],
   "metadata": {
    "collapsed": false,
    "pycharm": {
     "name": "#%%\n"
    }
   }
  },
  {
   "cell_type": "code",
   "execution_count": 190,
   "outputs": [],
   "source": [
    "# define features that include words as before\n",
    "# add the most frequent significant bigrams\n",
    "# this function takes the list of words in a document as an argument and returns a feature dictionary\n",
    "# it depends on the variables word_features and bigram_features\n",
    "def bigram_document_features(document, word_features, bigram_features):\n",
    "    document_words = set(document)\n",
    "    document_bigrams = nltk.bigrams(document)\n",
    "    features = {}\n",
    "    for word in word_features:\n",
    "        features['V_{}'.format(word)] = (word in document_words)\n",
    "    for bigram in bigram_features:\n",
    "        features['B_{}_{}'.format(bigram[0], bigram[1])] = (bigram in document_bigrams)\n",
    "    return features"
   ],
   "metadata": {
    "collapsed": false,
    "pycharm": {
     "name": "#%%\n"
    }
   }
  },
  {
   "cell_type": "code",
   "execution_count": 191,
   "outputs": [],
   "source": [
    "# use this function to create feature sets for all sentences\n",
    "bigram_featuresets = [(bigram_document_features(d, word_features, bigram_features), c) for (d, c) in documents]"
   ],
   "metadata": {
    "collapsed": false,
    "pycharm": {
     "name": "#%%\n"
    }
   }
  },
  {
   "cell_type": "code",
   "execution_count": 192,
   "outputs": [
    {
     "name": "stdout",
     "output_type": "stream",
     "text": [
      "2000\n"
     ]
    }
   ],
   "source": [
    "# number of features for document 0\n",
    "print(len(bigram_featuresets[0][0].keys()))"
   ],
   "metadata": {
    "collapsed": false,
    "pycharm": {
     "name": "#%%\n"
    }
   }
  },
  {
   "cell_type": "code",
   "execution_count": 193,
   "outputs": [
    {
     "name": "stdout",
     "output_type": "stream",
     "text": [
      "{'V_.': True, 'V_the': False, 'V_,': False, 'V_a': True, 'V_and': False, 'V_of': False, 'V_to': True, 'V_is': False, 'V_in': False, 'V_that': False, 'V_it': False, 'V_as': False, 'V_but': False, 'V_with': False, 'V_film': False, 'V_this': False, 'V_for': False, 'V_its': False, 'V_an': True, 'V_movie': False, \"V_it's\": False, 'V_be': False, 'V_on': False, 'V_you': False, 'V_not': False, 'V_by': False, 'V_about': False, 'V_one': False, 'V_more': False, 'V_like': False, 'V_has': False, 'V_are': False, 'V_at': False, 'V_from': False, 'V_than': False, 'V_\"': False, 'V_all': False, 'V_--': False, 'V_his': False, 'V_have': False, 'V_so': False, 'V_if': False, 'V_or': False, 'V_story': False, 'V_i': False, 'V_too': False, 'V_just': False, 'V_who': False, 'V_into': False, 'V_what': False, 'V_most': False, 'V_out': False, 'V_no': False, 'V_much': False, 'V_even': False, 'V_good': False, 'V_up': False, 'V_will': False, 'V_comedy': False, 'V_time': False, 'V_can': False, 'V_some': False, 'V_characters': False, 'V_only': False, 'V_little': False, 'V_way': False, 'V_their': False, 'V_funny': False, 'V_make': True, 'V_enough': False, 'V_been': False, 'V_very': False, 'V_your': False, 'V_never': False, 'V_when': False, 'V_makes': False, 'V_there': False, 'V_may': False, 'V_which': False, 'V_us': False, 'V_work': False, 'V_best': False, 'V_he': False, 'V_bad': False, 'V_director': False, \"V_doesn't\": False, 'V_)': False, 'V_any': False, 'V_?': False, 'V_(': False, 'V_love': False, 'V_would': False, 'V_life': False, 'V_while': False, 'V_they': False, 'V_:': False, 'V_we': False, 'V_was': False, 'V_movies': False, \"V_there's\": False, 'V_well': False, 'V_new': False, 'V_her': False, 'V_through': False, 'V_could': False, 'V_really': False, 'V_something': False, 'V_how': False, 'V_made': False, 'V_them': False, 'V_performances': False, 'V_does': False, 'V_own': False, \"V_that's\": False, 'V_drama': False, 'V_should': False, 'V_many': False, 'V_those': False, 'V_films': False, 'V_plot': False, 'V_look': False, 'V_every': False, 'V_see': False, 'V_still': False, \"V_isn't\": False, 'V_two': False, 'V_nothing': False, 'V_people': False, 'V_better': False, 'V_without': False, 'V_long': False, 'V_other': False, 'V_get': False, 'V_fun': False, 'V_off': False, 'V_being': False, 'V_action': False, 'V_both': False, 'V_great': False, 'V_though': False, 'V_might': False, 'V_big': False, \"V_'\": False, 'V_also': False, 'V_cast': False, 'V_another': False, 'V_do': False, 'V_humor': False, 'V_first': False, 'V_audience': False, 'V_kind': False, 'V_between': False, 'V_sense': False, 'V_such': False, 'V_over': False, 'V_ever': False, 'V_character': False, \"V_don't\": False, 'V_feels': False, 'V_;': False, 'V_performance': False, 'V_few': False, 'V_because': False, 'V_script': False, 'V_here': False, \"V_film's\": False, 'V_far': False, 'V_often': False, 'V_seems': False, 'V_thing': False, 'V_less': False, 'V_minutes': False, 'V_real': False, 'V_feel': False, 'V_picture': False, 'V_tale': False, 'V_almost': False, 'V_world': False, 'V_thriller': False, \"V_can't\": False, 'V_quite': False, 'V_documentary': False, 'V_down': False, 'V_yet': False, 'V_interesting': False, 'V_!': False, 'V_entertaining': False, 'V_these': False, 'V_screen': False, 'V_rather': False, \"V_you're\": False, 'V_my': False, 'V_end': False, 'V_itself': False, 'V_hollywood': False, 'V_full': False, 'V_take': False, 'V_watching': False, 'V_seen': False, 'V_go': False, 'V_ultimately': False, 'V_hard': False, 'V_heart': False, 'V_moments': False, 'V_de': False, 'V_romantic': False, 'V_comes': False, 'V_despite': False, 'V_lot': False, 'V_american': False, 'V_were': False, 'V_me': False, 'V_where': False, 'V_after': False, 'V_before': False, 'V_acting': False, 'V_family': False, 'V_old': False, 'V_original': False, 'V_had': False, 'V_then': False, 'V_right': False, 'V_find': False, 'V_worth': False, 'V_gets': False, 'V_human': False, 'V_same': False, 'V_takes': False, 'V_things': False, 'V_come': False, 'V_times': False, 'V_dialogue': False, 'V_scenes': False, 'V_back': False, 'V_man': False, 'V_watch': False, 'V_actors': False, 'V_our': False, 'V_material': False, 'V_compelling': False, 'V_once': False, 'V_young': False, 'V_music': False, 'V_years': False, 'V_works': False, 'V_think': False, 'V_emotional': False, 'V_anyone': False, 'V_seem': False, 'V_want': False, 'V_gives': False, 'V_least': False, 'V_know': False, 'V_going': False, 'V_say': False, 'V_part': False, 'V_piece': True, 'V_sometimes': False, 'V_again': False, 'V_cinematic': True, 'V_entertainment': False, 'V_subject': False, 'V_pretty': False, 'V_point': False, 'V_give': False, 'V_last': False, 'V_kids': False, \"V_you'll\": False, 'V_bit': False, 'V_making': False, 'V_special': False, 'V_keep': False, 'V_cinema': False, 'V_dull': False, 'V_whole': False, 'V_fascinating': False, 'V_together': False, 'V_why': False, 'V_fans': False, 'V_anything': False, 'V_year': False, 'V_moving': False, 'V_away': False, 'V_-': False, 'V_since': False, 'V_style': False, 'V_manages': False, 'V_need': False, 'V_true': False, 'V_show': False, 'V_laughs': False, 'V_star': False, 'V_experience': False, 'V_history': False, 'V_clever': False, 'V_offers': False, 'V_sweet': False, 'V_always': False, 'V_direction': False, 'V_simply': False, 'V_high': False, 'V_mr': False, 'V_instead': False, 'V_silly': False, 'V_dark': False, 'V_charm': False, 'V_whose': False, 'V_actually': False, 'V_care': False, 'V_him': False, 'V_predictable': False, 'V_art': False, 'V_visual': False, 'V_flick': False, 'V_nearly': False, 'V_everything': False, 'V_around': False, 'V_matter': False, 'V_title': False, 'V_series': False, 'V_video': False, 'V_comic': False, 'V_place': False, 'V_idea': False, 'V_narrative': False, \"V_he's\": False, 'V_screenplay': False, 'V_done': False, 'V_short': False, 'V_trying': False, 'V_war': False, 'V_goes': False, 'V_now': False, 'V_genre': False, 'V_probably': False, 'V_women': False, 'V_plays': False, \"V_movie's\": False, 'V_familiar': False, 'V_under': False, 'V_premise': False, 'V_horror': False, 'V_enjoyable': False, 'V_turns': False, 'V_filmmakers': False, 'V_although': False, 'V_lacks': False, 'V_set': False, 'V_engaging': False, 'V_home': False, 'V_she': False, 'V_becomes': False, 'V_three': False, 'V_feature': False, 'V_smart': False, 'V_feeling': False, 'V_worst': False, 'V_enjoy': False, \"V_won't\": False, 'V_power': False, 'V_effects': False, 'V_strong': False, 'V_half': False, 'V_effort': False, 'V_amusing': False, 'V_charming': False, 'V_ending': False, 'V_especially': False, 'V_intelligent': False, 'V_study': False, 'V_day': False, 'V_theater': True, 'V_debut': False, 'V_likely': False, 'V_lack': False, 'V_boring': False, 'V_romance': False, 'V_men': False, 'V_john': False, 'V_each': False, 'V_portrait': False, 'V_else': False, \"V_what's\": False, 'V_beautiful': False, 'V_sort': False, 'V_certainly': False, 'V_mostly': False, 'V_version': False, 'V_put': False, 'V_level': False, \"V_you've\": False, 'V_message': False, 'V_surprisingly': False, 'V_looking': False, 'V_beautifully': False, 'V_next': False, 'V_problem': False, 'V_easy': False, 'V_become': False, 'V_fine': False, 'V_exercise': False, 'V_wit': False, 'V_mind': False, 'V_quirky': False, 'V_rare': False, 'V_hours': False, 'V_along': False, 'V_lives': False, 'V_play': False, 'V_solid': False, 'V_mess': False, 'V_looks': False, 'V_directed': False, 'V_fresh': False, 'V_ideas': False, 'V_whether': False, 'V_leave': False, 'V_obvious': False, 'V_face': False, 'V_sure': False, 'V_either': False, 'V_french': False, 'V_past': False, 'V_energy': False, 'V_modern': False, 'V_interest': False, 'V_completely': False, 'V_powerful': False, 'V_classic': True, 'V_shot': False, 'V_viewers': False, 'V_dramatic': False, 'V_beyond': False, 'V_neither': False, 'V_fact': False, 'V_melodrama': False, 'V_reason': False, 'V_tone': False, 'V_delivers': False, 'V_children': False, 'V_recent': False, \"V_didn't\": False, 'V_shows': False, 'V_filmmaking': False, 'V_stuff': False, 'V_fails': False, 'V_suspense': False, 'V_intriguing': False, 'V_left': False, 'V_deeply': False, 'V_believe': False, 'V_truly': False, 'V_slow': False, 'V_everyone': False, 'V_culture': False, \"V_i'm\": False, 'V_jokes': False, 'V_serious': False, 'V_actor': False, 'V_death': False, 'V_himself': False, 'V_ends': False, 'V_ride': False, 'V_tries': False, 'V_black': False, 'V_book': False, 'V_small': False, 'V_spirit': False, 'V_tv': False, 'V_occasionally': False, 'V_audiences': False, 'V_light': False, 'V_touching': False, 'V_production': False, 'V_sad': False, 'V_storytelling': False, 'V_reality': False, 'V_exactly': False, 'V_role': False, 'V_passion': False, 'V_dumb': False, 'V_camera': False, 'V_satisfying': False, 'V_opera': False, 'V_adventure': False, 'V_remains': False, 'V_terrific': False, 'V_formula': False, 'V_hilarious': False, 'V_proves': False, 'V_got': False, 'V_stories': False, 'V_line': False, 'V_must': False, 'V_seeing': False, 'V_nor': False, 'V_impossible': False, 'V_images': False, 'V_already': False, 'V_different': False, 'V_talent': False, 'V_project': False, 'V_filmmaker': False, 'V_scene': False, 'V_attempt': True, 'V_above': False, 'V_simple': False, 'V_gags': False, 'V_perfect': False, 'V_easily': False, 'V_particularly': False, 'V_personal': False, 'V_journey': False, 'V_girl': False, 'V_animation': False, 'V_pretentious': False, 'V_psychological': False, 'V_complex': False, 'V_sex': False, 'V_against': False, 'V_honest': False, 'V_given': False, 'V_summer': False, 'V_close': False, 'V_turn': False, 'V_pleasure': False, 'V_hour': False, 'V_intelligence': False, 'V_difficult': False, 'V_earnest': False, 'V_falls': False, 'V_did': False, 'V_flat': False, 'V_case': False, 'V_ways': False, 'V_michael': False, 'V_found': False, 'V_coming-of-age': False, 'V_mystery': False, 'V_leaves': False, 'V_thought': False, 'V_getting': False, 'V_cliches': False, 'V_visually': False, 'V_political': False, 'V_social': False, 'V_head': False, 'V_sequel': False, 'V_none': False, 'V_memorable': False, 'V_game': False, 'V_violence': False, 'V_writing': False, 'V_written': False, 'V_uses': False, 'V_que': False, 'V_tell': False, 'V_crime': False, 'V_finally': False, 'V_laugh': False, 'V_help': False, 'V_gone': False, 'V_live': False, 'V_side': False, 'V_keeps': False, 'V_rich': False, 'V_job': False, 'V_overall': False, 'V_satire': False, 'V_wrong': False, 'V_told': False, 'V_brilliant': False, 'V_novel': False, 'V_cool': False, 'V_otherwise': False, 'V_contrived': False, 'V_spy': False, 'V_elements': False, 'V_needs': False, 'V_days': False, 'V_cold': False, 'V_rarely': False, 'V_lost': False, 'V_barely': False, 'V_second': False, 'V_boy': False, 'V_taste': False, 'V_thoughtful': False, 'V_entirely': False, 'V_nature': False, 'V_starts': False, 'V_imagine': False, 'V_o': False, 'V_several': False, 'V_approach': False, 'V_acted': False, 'V_appeal': False, 'V_guys': False, 'V_having': False, 'V_final': False, 'V_possible': False, 'V_during': False, 'V_perhaps': False, 'V_excellent': False, 'V_creepy': False, 'V_wild': False, 'V_concept': False, 'V_lead': False, 'V_wonderful': False, 'V_eyes': False, 'V_moral': False, 'V_running': False, 'V_truth': False, 'V_surprising': False, 'V_mood': False, 'V_tragedy': False, 'V_warm': False, 'V_act': False, 'V_insight': False, 'V_soap': False, 'V_y': False, 'V_fairly': False, 'V_imagination': False, 'V_entire': False, 'V_viewer': False, 'V_thoroughly': False, 'V_hero': False, \"V_they're\": False, 'V_form': False, 'V_engrossing': False, 'V_quality': False, 'V_david': False, 'V_emotionally': False, 'V_remarkable': False, 'V_others': False, 'V_comedies': False, 'V_expect': False, 'V_adults': False, 'V_attention': False, 'V_among': False, 'V_tedious': False, 'V_behind': False, 'V_call': False, 'V_bring': False, 'V_themselves': False, 'V_result': False, 'V_vision': False, 'V_gorgeous': False, 'V_bland': False, 'V_change': False, 'V_strange': False, 'V_tired': False, 'V_nice': False, 'V_sci-fi': False, 'V_witty': False, 'V_perfectly': False, 'V_usual': False, 'V_teen': False, 'V_four': False, 'V_genuine': False, \"V_you'd\": False, 'V_latest': False, 'V_adaptation': False, 'V_add': False, 'V_knows': False, \"V_i've\": False, 'V_quiet': False, 'V_la': False, 'V_epic': False, 'V_start': False, 'V_\\x96': False, 'V_moment': False, 'V_rock': False, 'V_disney': False, 'V_future': False, 'V_animated': False, 'V_sharp': False, 'V_remake': False, 'V_effective': False, 'V_beauty': False, 'V_worthy': False, 'V_thanks': False, 'V_points': False, 'V_plenty': False, 'V_offer': False, 'V_worse': False, 'V_appealing': False, 'V_parents': False, 'V_impressive': False, 'V_gentle': False, 'V_dead': False, 'V_taking': False, 'V_merely': False, 'V_until': False, 'V_deep': False, 'V_events': False, 'V_hope': False, 'V_period': False, 'V_begins': False, 'V_maybe': False, 'V_somewhat': False, 'V_wonder': False, 'V_depth': False, 'V_definitely': False, 'V_age': False, 'V_straight': False, 'V_career': False, 'V_awful': False, 'V_surprise': False, 'V_emotions': False, 'V_someone': False, 'V_fantasy': False, 'V_ambitious': False, 'V_unfortunately': False, 'V_clear': False, 'V_stupid': False, 'V_captures': False, 'V_woman': False, 'V_guy': False, 'V_sit': False, 'V_pure': False, 'V_try': False, 'V_doing': False, 'V_hit': False, 'V_however': False, 'V_writer-director': False, 'V_provides': False, 'V_decent': False, 'V_lots': False, \"V_year's\": False, 'V_important': False, 'V_air': False, 'V_welcome': False, 'V_thin': False, 'V_utterly': False, 'V_throughout': False, 'V_pictures': False, 'V_inside': False, 'V_suffers': False, 'V_school': False, 'V_historical': False, 'V_subtle': False, 'V_ugly': False, 'V_able': False, 'V_sound': False, 'V_robert': False, 'V_magic': False, 'V_highly': False, 'V_execution': False, 'V_exciting': False, 'V_view': False, 'V_brings': False, 'V_ii': False, 'V_sequences': False, 'V_scary': False, 'V_pace': False, 'V_run': False, 'V_deserves': False, 'V_fire': False, 'V_process': False, 'V_coming': False, 'V_alone': False, 'V_lovely': False, 'V_female': False, 'V_sustain': False, 'V_relationship': False, 'V_provocative': False, 'V_creative': False, 'V_examination': False, 'V_certain': False, 'V_sexual': False, 'V_cheap': False, 'V_read': False, 'V_ensemble': False, 'V_based': False, 'V_words': False, 'V_wants': False, 'V_deal': False, 'V_quickly': False, 'V_used': False, 'V_delightful': False, 'V_hand': False, 'V_major': False, 'V_upon': False, 'V_felt': False, 'V_across': False, 'V_single': False, 'V_chemistry': False, 'V_question': False, 'V_low': False, 'V_tension': False, 'V_poignant': False, 'V_use': False, 'V_except': False, 'V_working': False, 'V_playing': False, 'V_middle': False, 'V_cute': False, 'V_memory': False, 'V_impact': False, 'V_cartoon': False, 'V_city': False, 'V_flaws': False, 'V_potential': False, 'V_unfunny': False, 'V_sensitive': False, 'V_lacking': False, 'V_winning': False, 'V_waste': False, 'V_creates': False, 'V_situation': False, 'V_filled': False, 'V_sentimental': False, 'V_taken': False, 'V_puts': False, 'V_stand': False, 'V_talented': False, 'V_2': False, 'V_loud': False, 'V_touch': False, 'V_unexpected': False, 'V_mediocre': False, 'V_yes': False, 'V_master': False, 'V_success': False, 'V_force': False, 'V_rest': False, 'V_flawed': False, 'V_odd': False, 'V_bond': False, 'V_generic': False, 'V_cultural': False, 'V_murder': False, 'V_actress': False, 'V_weird': False, 'V_seriously': False, 'V_cannot': False, 'V_apart': False, 'V_mildly': False, 'V_eye': False, 'V_ultimate': False, 'V_watchable': False, 'V_college': False, 'V_melodramatic': False, 'V_ago': False, 'V_create': False, 'V_hardly': False, 'V_house': False, 'V_remember': False, 'V_cut': False, 'V_mark': False, 'V_previous': False, 'V_saw': False, 'V_reveals': False, 'V_*': False, 'V_class': False, 'V_era': False, 'V_extremely': False, 'V_ability': False, 'V_issues': False, 'V_formulaic': False, 'V_sincere': False, 'V_relationships': False, 'V_surprises': False, 'V_dog': False, 'V_routine': False, 'V_country': False, 'V_unsettling': False, 'V_supposed': False, 'V_slightly': False, 'V_hold': False, 'V_heavy': False, 'V_slight': False, 'V_convincing': False, 'V_giving': False, 'V_hell': False, 'V_indeed': False, 'V_artist': False, 'V_ones': False, 'V_uneven': False, 'V_amount': False, 'V_e': False, 'V_pop': False, 'V_focus': False, 'V_pacing': False, 'V_plain': False, 'V_grant': False, 'V_steven': False, 'V_stars': False, 'V_course': False, 'V_living': False, 'V_largely': False, 'V_tragic': False, 'V_succeeds': False, 'V_old-fashioned': False, 'V_george': False, 'V_contemporary': False, 'V_extreme': False, 'V_casting': False, 'V_leads': False, 'V_twists': False, 'V_stylish': False, 'V_intimate': False, 'V_thinking': False, 'V_gripping': False, 'V_crush': False, 'V_sets': False, 'V_thrills': False, 'V_finds': False, 'V_date': False, 'V_trouble': False, 'V_inventive': False, 'V_involved': False, 'V_money': False, 'V_forgettable': False, 'V_crazy': False, \"V_aren't\": False, 'V_terms': False, 'V_grace': False, 'V_five': False, 'V_episode': False, 'V_mix': False, 'V_road': False, 'V_joke': False, 'V_pleasant': False, 'V_treat': False, 'V_fully': False, 'V_attempts': False, 'V_happy': False, 'V_substance': False, 'V_drag': False, 'V_heaven': False, 'V_complete': False, 'V_friendship': False, 'V_considerable': False, 'V_appears': False, 'V_soundtrack': False, 'V_goofy': False, 'V_themes': False, 'V_yourself': False, 'V_york': False, 'V_problems': False, 'V_poetry': False, 'V_happens': False, 'V_called': False, 'V_colorful': False, 'V_successful': False, 'V_missing': False, 'V_painful': False, 'V_es': False, 'V_absolutely': False, 'V_masterpiece': False, 'V_water': False, 'V_presents': False, 'V_involving': False, \"V_she's\": False, \"V_we've\": False, 'V_business': False, 'V_badly': False, 'V_unique': False, 'V_williams': False, 'V_promise': False, 'V_couple': False, 'V_disturbing': False, 'V_recommend': False, 'V_runs': False, 'V_imax': False, \"V_couldn't\": False, 'V_soul': False, 'V_played': False, 'V_interested': False, 'V_strangely': False, 'V_refreshing': False, 'V_politics': False, 'V_tom': False, 'V_manner': False, 'V_bizarre': False, 'V_forced': False, 'V_viewing': False, 'V_originality': False, 'V_effect': False, 'V_person': False, 'V_typical': False, 'V_skin': False, 'V_somehow': False, 'V_oscar': False, 'V_flicks': False, 'V_evil': False, 'V_equally': False, 'V_forget': False, 'V_wanted': False, 'V_british': False, 'V_mean': False, 'V_gay': False, 'V_urban': False, 'V_share': False, 'V_triumph': False, 'V_hits': False, 'V_pieces': False, 'V_target': False, \"V_man's\": False, 'V_loses': False, 'V_bright': False, 'V_absorbing': False, 'V_terrible': False, 'V_blend': False, 'V_parts': False, 'V_[a]': False, 'V_meditation': False, 'V_sentimentality': False, 'V_situations': False, 'V_name': False, 'V_doubt': False, 'V_dry': False, 'V_please': False, 'V_television': False, 'V_night': False, 'V_somewhere': False, 'V_said': False, 'V_dream': False, 'V_franchise': False, 'V_understand': False, 'V_haunting': False, 'V_grief': False, 'V_jackson': False, 'V_fast': False, 'V_depressing': False, 'V_virtually': False, 'V_lame': False, 'V_conflict': False, 'V_battle': False, 'V_central': False, 'V_frame': False, 'V_eventually': False, 'V_el': False, 'V_miss': False, 'V_sexy': False, 'V_standard': False, 'V_alive': False, 'V_obviously': False, 'V_word': False, 'V_derivative': False, 'V_fare': False, 'V_well-acted': False, 'V_poor': False, 'V_questions': False, 'V_fan': False, 'V_energetic': False, 'V_whatever': False, 'V_company': False, 'V_painfully': False, \"V_director's\": False, 'V_tells': False, 'V_twist': False, 'V_monster': False, 'V_report': False, 'V_liked': False, 'V_hate': False, 'V_sophisticated': False, 'V_means': False, 'V_crafted': False, 'V_90': False, 'V_average': False, 'V_clichés': False, 'V_general': False, 'V_loss': False, 'V_created': False, 'V_stunning': False, 'V_setting': False, 'V_boys': False, 'V_japanese': False, 'V_toward': False, 'V_atmosphere': False, 'V_girls': False, 'V_lines': False, 'V_vivid': False, 'V_popcorn': False, 'V_price': False, 'V_finish': False, 'V_remarkably': False, 'V_huge': False, 'V_warmth': False, 'V_refreshingly': False, 'V_clearly': False, 'V_amazing': False, 'V_room': False, 'V_red': False, 'V_heavy-handed': False, 'V_break': False, 'V_genuinely': False, 'V_lets': False, 'V_niro': False, 'V_worthwhile': False, 'V_essentially': False, 'V_slapstick': False, 'V_holds': False, 'V_white': False, 'V_blue': False, 'V_allows': False, 'V_treasure': False, 'V_sitting': False, 'V_footage': False, 'V_faith': False, 'V_opportunity': False, 'V_ms': False, 'V_let': False, 'V_deliver': False, 'V_fat': False, 'V_wedding': False, 'V_riveting': False, 'V_brain': False, 'V_superficial': False, 'V_imaginative': False, 'V_una': False, 'V_inspired': False, 'V_edge': False, 'V_weak': False, 'V_generally': False, 'V_possibly': False, 'V_places': False, 'V_excitement': False, 'V_conventional': False, 'V_unlike': False, 'V_insightful': False, 'V_tough': False, 'V_thought-provoking': False, 'V_match': False, 'V_affecting': False, 'V_efforts': False, 'V_pay': False, 'V_ice': False, \"V_hasn't\": False, 'V_murphy': False, 'V_s': False, 'V_guilty': False, 'V_x': False, 'V_purpose': False, 'V_fit': False, 'V_core': False, 'V_simplistic': False, 'V_2002': False, \"V_we're\": False, 'V_minor': False, 'V_wish': False, 'V_kid': False, 'V_powers': False, 'V_particular': False, 'V_humanity': False, 'V_intended': False, 'V_peter': False, 'V_affair': False, 'V_needed': False, 'V_fiction': False, 'V_usually': False, 'V_spectacle': False, 'V_green': False, 'V_charisma': False, 'V_crowd': False, 'V_equivalent': False, 'V_heartfelt': False, 'V_delicate': False, 'V_damned': False, 'V_wait': False, 'V_slice': False, 'V_treatment': False, 'V_balance': False, 'V_spielberg': False, 'V_shallow': False, 'V_wildly': False, 'V_trip': False, 'V_aside': False, 'V_large': False, 'V_lazy': False, 'V_america': False, 'V_car': False, 'V_writer': False, 'V_filmed': False, 'V_believable': False, 'V_unusual': False, 'V_within': False, 'V_ridiculous': False, 'V_sounds': False, 'V_promising': False, 'V_extraordinary': False, 'V_universal': False, 'V_space': False, 'V_offering': False, 'V_realistic': False, 'V_quietly': False, 'V_funnier': False, 'V_devoid': False, 'V_credits': False, 'V_empty': False, 'V_greatest': False, 'V_gangster': False, 'V_stay': False, 'V_spiritual': False, 'V_wife': False, \"V_who's\": False, 'V_editing': False, 'V_further': False, \"V_i'd\": False, 'V_dreams': False, 'V_directors': False, 'V_sports': False, 'V_deftly': False, 'V_telling': False, 'V_detail': False, 'V_deeper': False, 'V_delight': False, 'V_bears': False, 'V_meaning': False, 'V_sea': False, 'V_directorial': False, 'V_talk': False, \"V_wasn't\": False, \"V_wouldn't\": False, 'V_spectacular': False, 'V_open': False, 'V_poorly': False, 'V_figure': False, 'V_mesmerizing': False, 'V_longer': False, 'V_score': False, 'V_indie': False, 'V_party': False, 'V_decades': False, 'V_fear': False, 'V_sequence': False, 'V_mindless': False, 'V_fashion': False, 'V_theme': False, 'V_god': False, 'V_festival': False, 'V_revenge': False, 'V_vehicle': False, 'V_stale': False, 'V_motion': False, 'V_sum': False, 'V_natural': False, 'V_combination': False, 'V_exhilarating': False, 'V_skill': False, 'V_represents': False, 'V_reading': False, 'V_consider': False, 'V_pointless': False, 'V_release': False, 'V_endearing': False, 'V_credit': False, 'V_century': False, 'V_roger': False, 'V_constructed': False, 'V_awkward': False, 'V_poetic': False, 'V_avoid': False, 'V_irritating': False, 'V_turned': False, 'V_gem': False, 'V_public': False, 'V_pleasures': False, 'V_10': False, 'V_justice': False, 'V_striking': False, 'V_affection': False, 'V_visuals': False, 'V_oddly': False, 'V_farce': False, 'V_number': False, 'V_crimes': False, 'V_society': False, 'V_allen': False, 'V_overly': False, 'V_values': False, 'V_holes': False, 'V_shots': False, 'V_daring': False, 'V_cinematography': False, 'V_identity': False, 'V_accessible': False, 'V_results': False, 'V_complicated': False, 'V_development': False, 'V_stage': False, 'V_dreary': False, 'V_profound': False, 'V_expected': False, 'V_king': False, 'V_sight': False, 'V_count': False, 'V_intense': False, 'V_performers': False, 'V_chase': False, 'V_martin': False, 'V_talking': False, 'V_james': False, 'V_j': False, 'V_prove': False, 'V_surface': False, 'V_shame': False, 'V_gross-out': False, 'V_value': False, 'V_manipulative': False, 'V_perspective': False, 'V_members': False, 'V_free': False, 'V_achieves': False, 'V_strength': False, 'V_frequently': False, 'V_paced': False, 'V_stunts': False, 'V_provide': False, 'V_win': False, 'V_generation': False, 'V_blade': False, 'V_move': False, \"V_haven't\": False, 'V_kevin': False, 'V_disguise': False, 'V_\\x97': False, 'V_desire': False, 'V_behavior': False, 'V_repetitive': False, 'V_exploration': False, 'V_struggle': False, 'V_hot': False, 'V_top': False, 'V_nowhere': False, 'V_buy': False, 'V_concerned': False, 'V_damn': False, 'V_giant': False, 'V_structure': False, 'V_predecessor': False, 'V_chilling': False, 'V_frustrating': False, 'V_designed': False, 'V_folks': False, 'V_example': False, 'V_produced': False, 'V_bits': False, 'V_brown': False, 'V_numbers': False, 'V_unless': False, 'V_glimpse': False, 'V_attraction': False, 'V_friday': False, 'V_group': False, 'V_friends': False, 'V_necessary': False, 'V_levels': False, 'V_failure': False, 'V_save': False, 'V_incredibly': False, 'V_offensive': False, 'V_using': False, 'V_hackneyed': False, 'V_nicely': False, 'V_thinks': False, 'V_screenwriter': False, 'V_commercial': False, 'V_raw': False, 'V_walk': False, 'V_follow': False, 'V_determined': False, 'V_intentions': False, 'V_shake': False, 'V_main': False, 'V_admirable': False, 'V_um': False, 'V_tribute': False, 'V_delivered': False, 'V_blood': False, 'V_return': False, \"V_story's\": False, 'V_pulls': False, 'V_challenging': False, 'V_ring': False, 'V_wise': False, 'V_chance': False, 'V_loved': False, 'V_artistic': False, 'V_beneath': False, 'V_community': False, 'V_beat': False, 'V_emerges': False, 'V_courage': False, 'V_trifle': False, 'V_tiresome': False, 'V_weight': False, 'V_games': False, 'V_voice': False, 'V_adam': False, 'V_ghost': False, 'V_subjects': False, 'V_overcome': False, 'V_diverting': False, 'V_intrigue': False, 'V_nonsense': False, 'V_yarn': False, 'V_presence': False, 'V_serves': False, 'V_del': False, 'V_moviemaking': False, 'V_waiting': False, 'V_clumsy': False, 'V_imagery': False, 'V_songs': False, 'V_enjoyed': False, 'V_machine': False, 'V_fears': False, 'V_happen': False, 'V_stands': False, 'V_marks': False, 'V_killer': False, 'V_ages': False, 'V_ground': False, 'V_musical': False, 'V_vs': False, 'V_accomplished': False, 'V_emotion': False, 'V_b-movie': False, 'V_inspiring': False, 'V_industry': False, \"V_world's\": False, 'V_authentic': False, 'V_present': False, 'V_excuse': False, 'V_meandering': False, 'V_queen': False, 'V_damage': False, 'V_bore': False, 'V_unpleasant': False, 'V_jones': False, 'V_wry': False, 'V_father': False, 'V_stock': False, 'V_grand': False, 'V_budget': False, 'V_national': False, 'V_overwrought': False, 'V_document': False, 'V_adult': False, 'V_apparently': False, 'V_hip-hop': False, 'V_spend': False, 'V_team': False, 'V_bittersweet': False, \"V_'the\": False, 'V_studio': False, 'V_chris': False, 'V_realism': False, 'V_flair': False, 'V_deserve': False, 'V_twice': False, 'V_annoying': False, 'V_directing': False, 'V_creating': False, 'V_digital': False, 'V_type': False, 'V_bunch': False, 'V_chinese': False, 'V_body': False, 'V_storyline': False, 'V_desperate': False, 'V_cause': False, 'V_jason': False, 'V_reach': False, 'V_standards': False, 'V_superior': False, 'V_eight': False, 'V_seat': False, 'V_search': False, 'V_maudlin': False, 'V_comedic': False, 'V_fall': False, 'V_matters': False, 'V_violent': False, 'V_sappy': False, 'V_grows': False, 'V_roles': False, 'V_moviegoers': False, 'V_mike': False, 'V_list': False, 'V_delivery': False, 'V_favor': False, 'V_wonderfully': False, 'V_precious': False, 'V_early': False, 'V_first-time': False, 'V_dance': False, \"V_characters'\": False, 'V_tender': False, 'V_parker': False, 'V_funniest': False, 'V_adolescent': False, 'V_humorous': False, 'V_well-made': False, 'V_mainstream': False, 'V_talents': False, \"B_''independent_film''\": False, \"B_'60s-homage_pokepie\": False, \"B_'[the_cockettes]\": False, \"B_'ace_ventura'\": False, \"B_'alternate_reality'\": False, \"B_'aunque_recurre\": False, \"B_'black_culture'\": False, \"B_'blue_crush'\": False, \"B_'chan_moment'\": False, \"B_'chick_flicks'\": False, \"B_'date_movie'\": False, \"B_'ethnic_cleansing\": False, \"B_'face_value'\": False, \"B_'fully_experienced'\": False, \"B_'jason_x'\": False, \"B_'juvenile_delinquent'\": False, \"B_'laugh_therapy'\": False, \"B_'masterpiece_theatre'\": False, \"B_'nicholas_nickleby'\": False, \"B_'old_neighborhood'\": False, \"B_'opening_up'\": False, \"B_'rare_birds'\": False, \"B_'sacre_bleu\": False, \"B_'science_fiction'\": False, \"B_'shindler's_list'\": False, \"B_'snow_dogs'\": False, \"B_'some_body'\": False, \"B_'special_effects'\": False, \"B_'terrible_filmmaking'\": False, \"B_'time_waster'\": False, \"B_'true_story'\": False, \"B_'unfaithful'_cheats\": False, \"B_'very_sneaky'\": False, \"B_'we're_-doing-it-for\": False, \"B_'who's_who'\": False, 'B_-after_spangle': False, 'B_-as-it-_thinks-it-is': False, 'B_-as-nasty_-as-it-': False, \"B_-doing-it-for_-the-cash'\": False, 'B_10-course_banquet': False, 'B_10-year_delay': False, 'B_15-cent_stump': False, 'B_18-year-old_mistress': False, \"B_1950's_doris\": False, \"B_1983's_koyaanisqatsi\": False, 'B_1986_harlem': False, \"B_1988's_powaqqatsi\": False, 'B_1992_malfitano-domingo': False, \"B_1992's_unforgiven\": False, 'B_22-year-old_girlfriend': False, 'B_50-something_lovebirds': False, 'B_75-minute_sample': False, 'B_93-minute_condensation': False, 'B_99-minute_stink': False, 'B_<em>ash_wednesday</em>': False, 'B_[at_least]': False, \"B_[breheny's]_lensing\": False, \"B_[but_it's]\": False, 'B_[cuarón_has]': False, 'B_[fiji_diver': False, 'B_[garbus]_discards': False, \"B_[gayton's_script]\": False, \"B_[hawn's_character]is\": False, \"B_[jack_nicholson's]\": False, 'B_[jaglom]_pursued': False, 'B_[jason_bourne]': False, 'B_[lawrence_bounces]': False, \"B_[lin_chung's]\": False, 'B_[macdowell]_ventures': False, 'B_[monsoon_wedding]': False, \"B_[raimi's]_matured\": False, 'B_[roman_coppola]': False, \"B_[sam's]_self-flagellation\": False, \"B_[seinfeld's]_revered\": False, 'B_[taymor]_utilizes': False, 'B_[teen_comedy]': False, 'B_[than_leon]': False, 'B_[woody_allen]': False, \"B_`matrix'-style_massacres\": False, \"B_abderrahmane_sissako's\": False, 'B_abdul_malik': False, 'B_absolutamente_predecible': False, 'B_accomodates_practical': False, 'B_ace_japanimator': False, 'B_aceitou_dirigir': False, \"B_achero_manas's\": False, \"B_achilles'_heel\": False, 'B_acting-workshop_exercises': False, 'B_action-and-popcorn_obsessed': False, 'B_activate_girlish': False, 'B_actores_ofrecen': False, 'B_actorish_notations': False, 'B_actory_concoctions': False, 'B_actuaciones_verdaderamente': False, 'B_adapted-_from-television': False, \"B_adjective_'gentle'\": False, 'B_adrien_brody': False, 'B_advanced_prozac': False, 'B_advises_denlopp': False, 'B_ageism_afflicting': False, 'B_ages--a_trend': False, 'B_agnostic_carnivore': False, 'B_agreeable_time-wasting': False, \"B_ain't-_she-cute\": False, 'B_aircraft_carrier': False, 'B_airport_security': False, \"B_aisle's_walker\": False, \"B_akira_kurosawa's\": False, \"B_alain_choquart's\": False, 'B_alchemical_transmogrification': False, 'B_alcoholic_beverage': False, \"B_ali's_graduation\": False, \"B_aliens'_laser\": False, 'B_all-night_tequila': False, 'B_all-too_-inevitable': False, 'B_ally_mcbeal-style': False, 'B_american-russian_armageddon': False, 'B_anarchist_maxim': False, 'B_ancillary_products': False, \"B_andersson's_rigorous\": False, \"B_andrew's_turnabout\": False, 'B_andré_turpin': False, 'B_angela_gheorghiu': False, \"B_ankle-deep_'epic\": False, 'B_annual_riviera': False, \"B_anton_chekhov's\": False, \"B_argentinean_'dramedy'\": False, 'B_armenian_genocide': False, 'B_arrancar_lágrimas': False, 'B_artless_sytle': False, 'B_ash_wednesday': False, \"B_asinine_'twist'\": False, \"B_attal's_hang-ups\": False, 'B_avant_garde': False, 'B_avuncular_chortles': False, 'B_axel_hellstenius': False, 'B_b-film_thuggery': False, \"B_babak_payami's\": False, \"B_bailly's_rom-com\": False, 'B_bar-scrapping_doggedness': False, 'B_barrett_browning': False, 'B_baseball-playing_monkey': False, 'B_basest_desires': False, 'B_baz_luhrmann': False, 'B_beachcombing_verismo': False, 'B_beached_grouper': False, 'B_beau_travil': False, 'B_bebe_neuwirth': False, 'B_beckett_applied': False, 'B_bedside_vigils': False, 'B_been-told-a-_thousand-times-': False, \"B_bela_lugosi's\": False, 'B_beloved-major-_character-who-shall-': False, \"B_belushi's_easy-going\": False, \"B_berkley's_flopping\": False, \"B_bettany/mcdowell's_hard-eyed\": False, 'B_binary_oppositions': False, 'B_bitchy_frolic': False, 'B_black-&-white_freeze': False, 'B_blending_entrepreneurial': False, 'B_blessedly_curse-free': False, 'B_blond_honeys': False, 'B_bluto_blutarsky': False, \"B_boat's_malediction\": False, 'B_bob_crane': False, 'B_bona_fide': False, 'B_bone-crushing_screwups': False, 'B_booming_bass-heavy': False, \"B_borchardt's_coven\": False, 'B_breezily_apolitical': False, 'B_brent_hanley': False, 'B_broaches_neo-augustinian': False, \"B_brooks'_borscht\": False, \"B_brothers'_oeuvre\": False, 'B_brussels_sprouts': False, 'B_buckaroo_banzai': False, 'B_buena_oportunidad': False, 'B_bump-in_-the-night': False, 'B_burkina_faso': False, 'B_busby_berkeley': False, \"B_buñuel's_casings\": False, \"B_bv's_re-voiced\": False, 'B_cafeteria_goulash': False, \"B_cagney's_'top\": False, 'B_camareras_italianas': False, \"B_canada's_arctic\": False, 'B_cannier_doppelganger': False, 'B_casey_kasem-furnished': False, 'B_casi_siempre': False, 'B_caso_você': False, \"B_cat's_meow\": False, 'B_cattle_prod': False, 'B_certamente_fica': False, 'B_channel-style_anthology': False, 'B_character-_and-': False, 'B_character-who-shall-_remain-nameless': False, 'B_cheese-laced_spectacles': False, 'B_chefs_fussing': False, 'B_cherry_orchard': False, 'B_chirpy_songbird': False, 'B_chloroform-soaked_handkerchief': False, 'B_chop_suey': False, 'B_christina_ricci': False, 'B_christmas-tree_flocking': False, 'B_christophe_honoré': False, 'B_cierta_realidad': False, \"B_city's_old-world\": False, 'B_civics_classes': False, 'B_clarissa_dalloway': False, 'B_cleopatra_2525': False, 'B_cleveland_sites': False, 'B_cliche-bound_epic-horror': False, 'B_clive_barker': False, 'B_closed-door_hanky-panky': False, 'B_closed-off_nationalist': False, \"B_clyde_barrow's\": False, 'B_coldly_self-interested': False, \"B_columbia_pictures'\": False, 'B_comatose_ballerinas': False, 'B_combustion_engine': False, 'B_comeback_curlers': False, 'B_comedias_románticas': False, 'B_comienza_intentando': False, 'B_communion_wafer': False, 'B_community-college_advertisement': False, 'B_competing_lawyers': False, 'B_computerized_yoda': False, 'B_confidently_orchestrated': False, 'B_constrictive_eisenhower': False, 'B_contemptible_imitator': False, 'B_contentious_configurations': False, 'B_continental_divides': False, 'B_contrária_à': False, \"B_cooper's_agency\": False, 'B_coos_beseechingly': False, 'B_cop-flick_subgenre': False, 'B_cor-blimey-luv-a-duck_cockney': False, 'B_cosa_nostra': False, \"B_costner's_warm-milk\": False, 'B_costumer_jived': False, 'B_coupling_disgracefully': False, \"B_court's_extradition\": False, 'B_cowardly_autocritique': False, 'B_creepy-crawly_bug': False, 'B_crematorium_chimney': False, 'B_crowded_cities': False, 'B_crème_brûlée': False, 'B_cuerpo_desnudo': False, 'B_culprit_early-on': False, 'B_cyndi_lauper': False, \"B_danilo_donati's\": False, \"B_danis_tanovic's\": False, \"B_dante_spinotti's\": False, 'B_das_boot': False, \"B_dawson's_creek\": False, 'B_debating_societies': False, 'B_decent-enough_nail-biter': False, 'B_deceptive_grimness': False, 'B_decidiram_assistir': False, \"B_def_leppard's\": False, 'B_defunct_cleopatra': False, 'B_delibrately_obtuse': False, \"B_delinquent'_paperbacks\": False, 'B_densest_distillation': False, 'B_dentist_drill': False, 'B_der_groen': False, 'B_deve_ter': False, 'B_developmentally_disabled': False, 'B_di_napoli': False, \"B_dignified_ceo's\": False, 'B_dilithium_crystals': False, 'B_dim_echo': False, 'B_dingy_backrooms': False, 'B_diop_gai': False, 'B_director-chef_gabriele': False, 'B_dirigir_esta': False, 'B_disciplined_grade-grubbers': False, 'B_disease-of-_the-week': False, 'B_disfrutable_trabajo': False, 'B_disloyal_satyr': False, 'B_diver_rusi': False, 'B_diverting--if_predictable--adventure': False, 'B_djeinaba_diop': False, 'B_doce_lar': False, 'B_docu-dogma_plainness': False, 'B_doggie_winks': False, 'B_dolly_parton': False, \"B_domineering_mother's\": False, 'B_doodled_steamboat': False, 'B_doofus-on-_the-loose': False, 'B_dos_musicais': False, 'B_doubling_subtexts': False, 'B_down-and-dirty_laugher': False, 'B_downy-cheeked_moppets': False, 'B_drabness_endemic': False, 'B_drinking_twelve': False, 'B_du_sarcasm': False, 'B_duas_torres': False, \"B_dubya's_axis\": False, 'B_duda_cabe': False, 'B_duplicate_bela': False, 'B_dust-caked_stagnation': False, \"B_duvall's_throbbing\": False, 'B_dyslexia_[gulpilil]': False, \"B_eagle's_carpets\": False, \"B_early-'80s_suburbia\": False, 'B_easy-going_likableness': False, 'B_eddy_crooned': False, 'B_edged_tome': False, \"B_edmund_mcwilliams's\": False, 'B_egregious_lip-non-synching': False, 'B_egyptian_demigod': False, \"B_elder_bueller's\": False, 'B_elegante_abandono': False, 'B_ellen_pompeo': False, 'B_elliptically_loops': False, \"B_elm_street'\": False, \"B_elmer_bernstein's\": False, 'B_elmo_touts': False, \"B_elvira's_hooters\": False, 'B_emocionalmente_frio': False, 'B_end-of-year_401': False, 'B_enforced_hiatus': False, 'B_enfrentará_cierta': False, 'B_entangled_interrelationships': False, 'B_entrance_exam': False, 'B_entretenimiento_puro': False, 'B_enviará_penas': False, \"B_era's_creme\": False, 'B_erin_brockovich': False, 'B_esas_películas': False, 'B_esfera_adicional': False, 'B_esos_filmes': False, 'B_espectáculo_digno': False, 'B_esta_continuação': False, 'B_estadounidense_patriotero': False, 'B_estava_feliz': False, 'B_esteemed_writer-actor': False, \"B_estela_bravo's\": False, 'B_estranhos_acontecimentos': False, 'B_esté_realizando': False, 'B_eternally_devoted': False, 'B_eu_estava': False, 'B_eudora_welty': False, 'B_everlyn_sampi': False, 'B_every-joke-has-_been-told-a-': False, 'B_evolução_dos': False, 'B_existent_anti-virus': False, 'B_extemporaneously_shouted': False, 'B_extradition_chess': False, 'B_extremist_name-calling': False, 'B_fabuleux_destin': False, 'B_fai_are]': False, 'B_faltering_half-step': False, 'B_fanatically_fetishized': False, 'B_fang-baring_lullaby': False, 'B_fangoria_subscriber': False, 'B_fatalist_worldview': False, 'B_faux-contemporary_gravy': False, 'B_ferris_bueller': False, 'B_fictions_peddled': False, 'B_fide_groaners': False, 'B_field-sized_oriental': False, \"B_fifteen-year-old's_suicidal\": False, 'B_fifties_teen-gang': False, 'B_figurative_port-of-call': False, 'B_fill-in-_the-blanks': False, \"B_films'_loose-jointed\": False, 'B_financial_extortion': False, 'B_fingernails_instinctively': False, 'B_flails_limply': False, 'B_flakeball_spouting': False, 'B_fledgling_democracies': False, 'B_flick-knife_diction': False, 'B_flopping_dolphin-gasm': False, 'B_foo_yung': False, \"B_foreman's_barking-mad\": False, 'B_forrest_gump': False, 'B_four-legged_herbivore': False, \"B_fracasso_'artístico'\": False, 'B_francamente_aburrido': False, 'B_frazzled_wackiness': False, 'B_freewheeling_trash-cinema': False, \"B_friend's_playboy-mansion\": False, 'B_frothing_ex-girlfriend': False, 'B_fruit_pies': False, 'B_future-world_holographic': False, 'B_fílmica_imposible': False, 'B_gabbiest_giant-screen': False, \"B_gallic_'tradition\": False, 'B_gambol_fluidly': False, 'B_ganha_força': False, 'B_garcía_bernal': False, 'B_garry_shandling': False, 'B_gelo_diverte': False, 'B_genevieve_leplouff': False, 'B_genuinamente_sorprendido': False, 'B_geographical_displacement': False, \"B_george's_haplessness\": False, 'B_gerald_bounce': False, \"B_gibson's_braveheart\": False, 'B_giles_nuttgens': False, \"B_glass's_dirgelike\": False, 'B_gone-to-pot_asbury': False, 'B_good-deed/bad-deed_reversals': False, 'B_gosta_muito': False, 'B_government/_marine/legal': False, 'B_grandes_revelaciones': False, 'B_graças_às': False, 'B_grouchy_ayatollah': False, 'B_gryffindor_scarf': False, \"B_guarantees_karmen's\": False, 'B_gushing---imamura_squirts': False, \"B_gutter_romancer's\": False, \"B_guys'_superhuman\": False, 'B_halle_berry': False, 'B_happily-ever_-after': False, 'B_hard-_boiled': False, 'B_hard-sell_image-mongering': False, 'B_harmlessly_naïve': False, 'B_harold_ramis': False, \"B_harvey_weinstein's\": False, 'B_haute_couture': False, 'B_havia_satirizado': False, 'B_heartstring_untugged': False, 'B_heartwarmingly_motivate': False, 'B_heavy-duty_ropes': False, 'B_heedless_impetuousness': False, 'B_helene_weigel': False, \"B_helms'_anti-\": False, \"B_henry's_<b>the\": False, 'B_heretofore_unfathomable': False, 'B_hibiscus_grandly': False, 'B_high-wattage_brainpower': False, 'B_hilary_birmingham': False, 'B_hippopotamus_ballerina': False, 'B_hit-_and-miss': False, 'B_hollywood-ized_austen': False, \"B_hornby's_drop-dead\": False, 'B_hossein_amini': False, \"B_howie_long's\": False, 'B_huckster_lapel': False, 'B_humorously_tendentious': False, 'B_i-heard-a-joke-_at-a-frat-party': False, 'B_iben_hjelje': False, 'B_idealistically_selfless': False, 'B_iditarod_lasts': False, 'B_idoosyncratic_terrain': False, 'B_igualmente_fascinantes': False, 'B_ill-timed_antitrust': False, 'B_ill-wrought_hypothesis': False, 'B_imogen_kimmel': False, 'B_improbably_forbearing': False, 'B_impudent_snickers': False, 'B_in-the-ring_match-up': False, 'B_indecent_proposal': False, 'B_independent-community_guiding': False, 'B_inhalant_blackout': False, 'B_initiation_rite': False, 'B_inside-show-biz_yarns': False, \"B_insider's_lingo\": False, 'B_instinctively_crawled': False, 'B_institutionalized_slavery': False, 'B_intelectualmente_retadora': False, 'B_interacting_eyeball-to-eyeball': False, 'B_interações_entre': False, 'B_internal_combustion': False, \"B_irvine_welsh's\": False, \"B_ismail_merchant's\": False, \"B_it's-surreal_dubbing\": False, 'B_italy_beckons': False, 'B_ivans_xtc': False, 'B_ja_rule': False, \"B_jae-eun_jeong's\": False, 'B_jagjit_singh': False, 'B_janszen_bungle': False, 'B_japanimator_hayao': False, 'B_jazz-playing_exterminator': False, 'B_jeanette_macdonald': False, \"B_jeff_foxworthy's\": False, 'B_jeweled_beads': False, 'B_jez_butterworth': False, \"B_jiri_menzel's\": False, \"B_jirí_hubac's\": False, 'B_joaquin_baca-asay': False, 'B_joint_promotion': False, \"B_jon_purdy's\": False, 'B_josef_bierbichler': False, 'B_joão_pedro': False, \"B_juliet_stevenon's\": False, 'B_june_cleaver': False, 'B_jungle_needing': False, 'B_just-above-average_off-': False, 'B_ka_fai': False, \"B_kaige's_assistant\": False, 'B_kappa_rho': False, \"B_karmen's_enthronement\": False, 'B_kathleen_soliah': False, \"B_kerrigan's_platinum-blonde\": False, 'B_killer-thrillers_revolve': False}\n"
     ]
    }
   ],
   "source": [
    "# features in document 0\n",
    "print(bigram_featuresets[0][0])"
   ],
   "metadata": {
    "collapsed": false,
    "pycharm": {
     "name": "#%%\n"
    }
   }
  },
  {
   "cell_type": "code",
   "execution_count": 194,
   "outputs": [
    {
     "data": {
      "text/plain": "0.735"
     },
     "execution_count": 194,
     "metadata": {},
     "output_type": "execute_result"
    }
   ],
   "source": [
    "# train a classifier and report accuracy\n",
    "train_set, test_set = bigram_featuresets[1000:], bigram_featuresets[:1000]\n",
    "classifier = nltk.NaiveBayesClassifier.train(train_set)\n",
    "nltk.classify.accuracy(classifier, test_set)"
   ],
   "metadata": {
    "collapsed": false,
    "pycharm": {
     "name": "#%%\n"
    }
   }
  },
  {
   "cell_type": "markdown",
   "source": [
    "---"
   ],
   "metadata": {
    "collapsed": false,
    "pycharm": {
     "name": "#%% md\n"
    }
   }
  },
  {
   "cell_type": "code",
   "execution_count": 178,
   "outputs": [
    {
     "name": "stdout",
     "output_type": "stream",
     "text": [
      "['Arthur', 'carefully', 'rode', 'the', 'brown', 'horse', 'around', 'the', 'castle']\n",
      "[('Arthur', 'NNP'), ('carefully', 'RB'), ('rode', 'VBD'), ('the', 'DT'), ('brown', 'JJ'), ('horse', 'NN'), ('around', 'IN'), ('the', 'DT'), ('castle', 'NN')]\n"
     ]
    }
   ],
   "source": [
    "###  Task 2: POS tag counts\n",
    "# using the default pos tagger in NLTK (the Stanford tagger)\n",
    "print(sent)\n",
    "print(nltk.pos_tag(sent))"
   ],
   "metadata": {
    "collapsed": false,
    "pycharm": {
     "name": "#%%\n"
    }
   }
  },
  {
   "cell_type": "code",
   "execution_count": 179,
   "outputs": [],
   "source": [
    "# this function takes a document list of words and returns a feature dictionary\n",
    "# it runs the default pos tagger (the Stanford tagger) on the document\n",
    "#   and counts 4 types of pos tags to use as features\n",
    "def POS_features(document, word_features):\n",
    "    document_words = set(document)\n",
    "    tagged_words = nltk.pos_tag(document)\n",
    "    features = {}\n",
    "    for word in word_features:\n",
    "        features['contains({})'.format(word)] = (word in document_words)\n",
    "    numNoun = 0\n",
    "    numVerb = 0\n",
    "    numAdj = 0\n",
    "    numAdverb = 0\n",
    "    for (word, tag) in tagged_words:\n",
    "        if tag.startswith('N'): numNoun += 1\n",
    "        if tag.startswith('V'): numVerb += 1\n",
    "        if tag.startswith('J'): numAdj += 1\n",
    "        if tag.startswith('R'): numAdverb += 1\n",
    "    features['nouns'] = numNoun\n",
    "    features['verbs'] = numVerb\n",
    "    features['adjectives'] = numAdj\n",
    "    features['adverbs'] = numAdverb\n",
    "    return features"
   ],
   "metadata": {
    "collapsed": false,
    "pycharm": {
     "name": "#%%\n"
    }
   }
  },
  {
   "cell_type": "code",
   "execution_count": 180,
   "outputs": [
    {
     "name": "stdout",
     "output_type": "stream",
     "text": [
      "1504\n"
     ]
    }
   ],
   "source": [
    "# define feature sets using this function\n",
    "POS_featuresets = [(POS_features(d, word_features), c) for (d, c) in documents]\n",
    "# number of features for document 0\n",
    "print(len(POS_featuresets[0][0].keys()))"
   ],
   "metadata": {
    "collapsed": false,
    "pycharm": {
     "name": "#%%\n"
    }
   }
  },
  {
   "cell_type": "code",
   "execution_count": 181,
   "outputs": [
    {
     "name": "stdout",
     "output_type": "stream",
     "text": [
      "(['an', 'undistinguished', 'attempt', 'to', 'make', 'a', 'classic', 'theater', 'piece', 'cinematic', '.'], 'neg')\n",
      "num nouns 4\n",
      "num verbs 1\n",
      "num adjectives 2\n",
      "num adverbs 0\n"
     ]
    }
   ],
   "source": [
    "# the first sentence\n",
    "print(documents[0])\n",
    "# the pos tag features for this sentence\n",
    "print('num nouns', POS_featuresets[0][0]['nouns'])\n",
    "print('num verbs', POS_featuresets[0][0]['verbs'])\n",
    "print('num adjectives', POS_featuresets[0][0]['adjectives'])\n",
    "print('num adverbs', POS_featuresets[0][0]['adverbs'])"
   ],
   "metadata": {
    "collapsed": false,
    "pycharm": {
     "name": "#%%\n"
    }
   }
  },
  {
   "cell_type": "code",
   "execution_count": 182,
   "outputs": [
    {
     "data": {
      "text/plain": "0.727"
     },
     "execution_count": 182,
     "metadata": {},
     "output_type": "execute_result"
    }
   ],
   "source": [
    "# train and test the classifier\n",
    "train_set, test_set = POS_featuresets[1000:], POS_featuresets[:1000]\n",
    "classifier = nltk.NaiveBayesClassifier.train(train_set)\n",
    "nltk.classify.accuracy(classifier, test_set)"
   ],
   "metadata": {
    "collapsed": false,
    "pycharm": {
     "name": "#%%\n"
    }
   }
  },
  {
   "cell_type": "markdown",
   "source": [
    "---"
   ],
   "metadata": {
    "collapsed": false,
    "pycharm": {
     "name": "#%% md\n"
    }
   }
  },
  {
   "cell_type": "code",
   "execution_count": null,
   "outputs": [],
   "source": [],
   "metadata": {
    "collapsed": false,
    "pycharm": {
     "name": "#%%\n"
    }
   }
  },
  {
   "cell_type": "code",
   "execution_count": 195,
   "outputs": [],
   "source": [
    "## Task 3: cross-validation ##\n",
    "# this function takes the number of folds, the feature sets\n",
    "# it iterates over the folds, using different sections for training and testing in turn\n",
    "#   it prints the accuracy for each fold and the average accuracy at the end\n",
    "def cross_validation_accuracy(num_folds, featuresets):\n",
    "    subset_size = int(len(featuresets)/num_folds)\n",
    "    print('Each fold size:', subset_size)\n",
    "    accuracy_list = []\n",
    "    # iterate over the folds\n",
    "    for i in range(num_folds):\n",
    "        test_this_round = featuresets[(i*subset_size):][:subset_size]\n",
    "        train_this_round = featuresets[:(i*subset_size)] + featuresets[((i+1)*subset_size):]\n",
    "        # train using train_this_round\n",
    "        classifier = nltk.NaiveBayesClassifier.train(train_this_round)\n",
    "        # evaluate against test_this_round and save accuracy\n",
    "        accuracy_this_round = nltk.classify.accuracy(classifier, test_this_round)\n",
    "        print (i, accuracy_this_round)\n",
    "        accuracy_list.append(accuracy_this_round)\n",
    "    # find mean accuracy over all rounds\n",
    "    print ('mean accuracy', sum(accuracy_list) / num_folds)"
   ],
   "metadata": {
    "collapsed": false,
    "pycharm": {
     "name": "#%%\n"
    }
   }
  },
  {
   "cell_type": "code",
   "execution_count": 197,
   "outputs": [
    {
     "name": "stdout",
     "output_type": "stream",
     "text": [
      "Each fold size: 2132\n",
      "0 0.7293621013133208\n",
      "1 0.7387429643527205\n",
      "2 0.7120075046904315\n",
      "3 0.75\n",
      "4 0.7439024390243902\n",
      "mean accuracy 0.7348030018761726\n"
     ]
    }
   ],
   "source": [
    "# perform the cross-validation on the featuresets with word features and generate accuracy\n",
    "num_folds = 5\n",
    "cross_validation_accuracy(num_folds, bigram_featuresets)"
   ],
   "metadata": {
    "collapsed": false,
    "pycharm": {
     "name": "#%%\n"
    }
   }
  },
  {
   "cell_type": "code",
   "execution_count": 198,
   "outputs": [
    {
     "name": "stdout",
     "output_type": "stream",
     "text": [
      "Each fold size: 2132\n",
      "0 0.7279549718574109\n",
      "1 0.7401500938086304\n",
      "2 0.7115384615384616\n",
      "3 0.7485928705440901\n",
      "4 0.7457786116322702\n",
      "mean accuracy 0.7348030018761726\n"
     ]
    }
   ],
   "source": [
    "num_folds = 5\n",
    "cross_validation_accuracy(num_folds, featuresets)"
   ],
   "metadata": {
    "collapsed": false,
    "pycharm": {
     "name": "#%%\n"
    }
   }
  },
  {
   "cell_type": "code",
   "execution_count": 199,
   "outputs": [
    {
     "name": "stdout",
     "output_type": "stream",
     "text": [
      "Each fold size: 2132\n",
      "0 0.7349906191369606\n",
      "1 0.7373358348968105\n",
      "2 0.7110694183864915\n",
      "3 0.7514071294559099\n",
      "4 0.7443714821763602\n",
      "mean accuracy 0.7358348968105066\n"
     ]
    }
   ],
   "source": [
    "num_folds = 5\n",
    "cross_validation_accuracy(num_folds, POS_featuresets)\n"
   ],
   "metadata": {
    "collapsed": false,
    "pycharm": {
     "name": "#%%\n"
    }
   }
  },
  {
   "cell_type": "code",
   "execution_count": 145,
   "outputs": [],
   "source": [
    "## Task 4: other evaluation measures:  confusion matrix, precision, recall, F1 ##\n",
    "\n",
    "goldlist = []\n",
    "predictedlist = []\n",
    "for (features, label) in test_set:\n",
    "    \tgoldlist.append(label)\n",
    "    \tpredictedlist.append(classifier.classify(features))"
   ],
   "metadata": {
    "collapsed": false,
    "pycharm": {
     "name": "#%%\n"
    }
   }
  },
  {
   "cell_type": "code",
   "execution_count": 146,
   "outputs": [
    {
     "name": "stdout",
     "output_type": "stream",
     "text": [
      "['neg', 'pos', 'neg', 'neg', 'neg', 'pos', 'neg', 'pos', 'pos', 'neg', 'pos', 'pos', 'pos', 'neg', 'pos', 'pos', 'pos', 'neg', 'neg', 'pos', 'pos', 'pos', 'neg', 'pos', 'pos', 'pos', 'neg', 'neg', 'pos', 'neg']\n",
      "['pos', 'pos', 'neg', 'pos', 'neg', 'pos', 'neg', 'pos', 'pos', 'neg', 'pos', 'pos', 'neg', 'pos', 'pos', 'pos', 'neg', 'pos', 'neg', 'pos', 'pos', 'pos', 'pos', 'pos', 'pos', 'neg', 'neg', 'neg', 'pos', 'pos']\n"
     ]
    }
   ],
   "source": [
    "# look at the first 30 examples\n",
    "print(goldlist[:30])\n",
    "print(predictedlist[:30])"
   ],
   "metadata": {
    "collapsed": false,
    "pycharm": {
     "name": "#%%\n"
    }
   }
  },
  {
   "cell_type": "code",
   "execution_count": 147,
   "outputs": [
    {
     "name": "stdout",
     "output_type": "stream",
     "text": [
      "    |   n   p |\n",
      "    |   e   o |\n",
      "    |   g   s |\n",
      "----+---------+\n",
      "neg |<368>136 |\n",
      "pos | 137<359>|\n",
      "----+---------+\n",
      "(row = reference; col = test)\n",
      "\n"
     ]
    }
   ],
   "source": [
    "cm = nltk.ConfusionMatrix(goldlist, predictedlist)\n",
    "print(cm.pretty_format(sort_by_count=True, truncate=9))"
   ],
   "metadata": {
    "collapsed": false,
    "pycharm": {
     "name": "#%%\n"
    }
   }
  },
  {
   "cell_type": "code",
   "execution_count": 148,
   "outputs": [
    {
     "name": "stdout",
     "output_type": "stream",
     "text": [
      "    |      n      p |\n",
      "    |      e      o |\n",
      "    |      g      s |\n",
      "----+---------------+\n",
      "neg | <36.8%> 13.6% |\n",
      "pos |  13.7% <35.9%>|\n",
      "----+---------------+\n",
      "(row = reference; col = test)\n",
      "\n"
     ]
    }
   ],
   "source": [
    "# or show the results as percentages\n",
    "print(cm.pretty_format(sort_by_count=True, show_percents=True, truncate=9))"
   ],
   "metadata": {
    "collapsed": false,
    "pycharm": {
     "name": "#%%\n"
    }
   }
  },
  {
   "cell_type": "code",
   "execution_count": 149,
   "outputs": [],
   "source": [
    "# Function to compute precision, recall and F1 for each label\n",
    "#  and for any number of labels\n",
    "# Input: list of gold labels, list of predicted labels (in same order)\n",
    "# Output:  prints precision, recall and F1 for each label\n",
    "def eval_measures(gold, predicted):\n",
    "    # get a list of labels\n",
    "    labels = list(set(gold))\n",
    "    # these lists have values for each label\n",
    "    recall_list = []\n",
    "    precision_list = []\n",
    "    F1_list = []\n",
    "    for lab in labels:\n",
    "        # for each label, compare gold and predicted lists and compute values\n",
    "        TP = FP = FN = TN = 0\n",
    "        for i, val in enumerate(gold):\n",
    "            if val == lab and predicted[i] == lab:  TP += 1\n",
    "            if val == lab and predicted[i] != lab:  FN += 1\n",
    "            if val != lab and predicted[i] == lab:  FP += 1\n",
    "            if val != lab and predicted[i] != lab:  TN += 1\n",
    "        # use these to compute recall, precision, F1\n",
    "        recall = TP / (TP + FN)\n",
    "        precision = TP / (TP + FP)\n",
    "        recall_list.append(recall)\n",
    "        precision_list.append(precision)\n",
    "        F1_list.append( 2 * (recall * precision) / (recall + precision))\n",
    "\n",
    "    # the evaluation measures in a table with one row per label\n",
    "    print('\\tPrecision\\tRecall\\t\\tF1')\n",
    "    # print measures for each label\n",
    "    for i, lab in enumerate(labels):\n",
    "        print(lab, '\\t', \"{:10.3f}\".format(precision_list[i]), \\\n",
    "          \"{:10.3f}\".format(recall_list[i]), \"{:10.3f}\".format(F1_list[i]))"
   ],
   "metadata": {
    "collapsed": false,
    "pycharm": {
     "name": "#%%\n"
    }
   }
  },
  {
   "cell_type": "code",
   "execution_count": 150,
   "outputs": [
    {
     "name": "stdout",
     "output_type": "stream",
     "text": [
      "\tPrecision\tRecall\t\tF1\n",
      "neg \t      0.729      0.730      0.729\n",
      "pos \t      0.725      0.724      0.725\n"
     ]
    }
   ],
   "source": [
    "# call the function with our data\n",
    "eval_measures(goldlist, predictedlist)"
   ],
   "metadata": {
    "collapsed": false,
    "pycharm": {
     "name": "#%%\n"
    }
   }
  },
  {
   "cell_type": "code",
   "execution_count": 225,
   "outputs": [],
   "source": [
    "list_text=[]\n",
    "# This list is to help to do with the text part\n",
    "i=0\n",
    "j=0\n",
    "kk=0\n",
    "#counters\n",
    "counter=0\n",
    "pos_list=[]\n",
    "neg_list=[]\n",
    "# a counter\n",
    "\n",
    "\n",
    "with open('16119_webhose_2020_01_db21c91a1ab47385bb13773ed8238c31_0000002.json', 'r', encoding='utf-8') as file:\n",
    "#open the file\n",
    "\n",
    "\n",
    "        for line in file:\n",
    "        # file is too big to just use load(), to save my laptop, load in by line\n",
    "\n",
    "                data=json.loads(line)\n",
    "\n",
    "                if data[\"text\"] is not None:\n",
    "                    text=data[\"text\"]\n",
    "\n",
    "\n",
    "                    sentences = nltk.sent_tokenize(text)\n",
    "\n",
    "\n",
    "\n",
    "                    for p in sentences:\n",
    "\n",
    "\n",
    "                        text_low=p.lower()\n",
    "                        #lower text\n",
    "\n",
    "                        counter=counter+1\n",
    "                        #number of sentence\n",
    "\n",
    "\n",
    "                    list_text=[]\n",
    "\n",
    "\n",
    "                    list_text.extend([w for w in word_tokenize(text_low) if re.search('^[a-zA-Z]',w)])\n",
    "\n",
    "\n",
    "                    if classifier.classify(document_features(list_text, word_features)) == 'pos':\n",
    "                            pos_list.extend(list_text)\n",
    "                            i=i+1\n",
    "\n",
    "                    if classifier.classify(document_features(list_text, word_features)) == 'neg':\n",
    "                            neg_list.extend(list_text)\n",
    "                            j=j+1\n",
    "\n",
    "\n",
    "\n",
    "\n",
    "\n",
    "\n",
    "\n",
    "                          #save the clean data text in list_text\n",
    "\n",
    "        ## end for loop\n",
    "\n",
    "file.close()\n",
    "## all data loaded"
   ],
   "metadata": {
    "collapsed": false,
    "pycharm": {
     "name": "#%%\n"
    }
   }
  },
  {
   "cell_type": "code",
   "execution_count": 207,
   "outputs": [
    {
     "name": "stdout",
     "output_type": "stream",
     "text": [
      "3342 7614\n"
     ]
    }
   ],
   "source": [
    "print(i,j)"
   ],
   "metadata": {
    "collapsed": false,
    "pycharm": {
     "name": "#%%\n"
    }
   }
  },
  {
   "cell_type": "code",
   "execution_count": 226,
   "outputs": [],
   "source": [
    "list_pos_p=[]\n",
    "list_pos_n=[]\n",
    "list_pos_p =nltk.pos_tag(pos_list)\n",
    "list_pos_n =nltk.pos_tag(neg_list)"
   ],
   "metadata": {
    "collapsed": false,
    "pycharm": {
     "name": "#%%\n"
    }
   }
  },
  {
   "cell_type": "code",
   "execution_count": 227,
   "outputs": [],
   "source": [
    "grammar = \"RBADJ: {<RB.*><JJ.*>}\"\n",
    "#define grammar on find adjective phrase\n",
    "\n",
    "cp = nltk.RegexpParser(grammar)\n",
    "tree_p=cp.parse(list_pos_p)\n",
    "tree_n=cp.parse(list_pos_n)\n",
    "\n",
    "###Explain:#################################################################\n",
    "#there only [RB+JJ] or [JJ+NN] to make an adjective phrase\n",
    "#the reason not include [JJ+NN] because it does not give the useful thing\n",
    "\n",
    "#For example, nltk will define [\"white\" as \"JJ\"] and [\"house\" as \"NN\"]\n",
    "#but \"white house\" is actually a word, it also happens on example \"next week\"\n",
    "#will talk more in the report"
   ],
   "metadata": {
    "collapsed": false,
    "pycharm": {
     "name": "#%%\n"
    }
   }
  },
  {
   "cell_type": "code",
   "execution_count": 228,
   "outputs": [],
   "source": [
    "rbadj_p=[]\n",
    "rbadj_n=[]\n",
    "\n",
    "for subtree in tree_p.subtrees():\n",
    "    if subtree.label() == 'RBADJ':\n",
    "        #to find the find adjective phrase\n",
    "            rbadj_p.append(subtree)\n",
    "            #save the correct adjective phrase in subtree\n",
    "\n",
    "for subtree in tree_n.subtrees():\n",
    "    if subtree.label() == 'RBADJ':\n",
    "        #to find the find adjective phrase\n",
    "            rbadj_n.append(subtree)\n",
    "            #save the correct adjective phrase in subtree\n"
   ],
   "metadata": {
    "collapsed": false,
    "pycharm": {
     "name": "#%%\n"
    }
   }
  },
  {
   "cell_type": "code",
   "execution_count": 238,
   "outputs": [],
   "source": [
    "rb_adj_p = []\n",
    "rb_adj_n = []\n",
    "\n",
    "\n",
    "rbadj_stop_word = [\"n't political \", 'south lake ', 'hong kong ', 'only ibd ', 'south shore ', 'threshold type ',\n",
    "                   'so i ','ago january ', 'more ap ']\n",
    "\n",
    "for phrase in rbadj_p:\n",
    "    i = ''\n",
    "    for word, pos in phrase:\n",
    "        i = i + word + ' '\n",
    "        #to make tree type to a readable list\n",
    "        #WTS: model 'RB JJ' as output\n",
    "    if i not in rbadj_stop_word:\n",
    "        rb_adj_p.append(i)\n",
    "\n",
    "for phrase in rbadj_n:\n",
    "    i = ''\n",
    "    for word, pos in phrase:\n",
    "        i = i + word + ' '\n",
    "        #to make tree type to a readable list\n",
    "        #WTS: model 'RB JJ' as output\n",
    "    if i not in rbadj_stop_word:\n",
    "        rb_adj_n.append(i)"
   ],
   "metadata": {
    "collapsed": false,
    "pycharm": {
     "name": "#%%\n"
    }
   }
  },
  {
   "cell_type": "code",
   "execution_count": 239,
   "outputs": [
    {
     "data": {
      "text/plain": "[('most popular ', 37),\n ('best preventative ', 33),\n ('most read ', 21),\n ('more confirmed ', 6),\n ('most recent ', 6),\n ('very unusual ', 5),\n ('more related ', 5),\n ('most viewed ', 4),\n ('flipboard whatsapp ', 3),\n ('so many ', 3)]"
     },
     "execution_count": 239,
     "metadata": {},
     "output_type": "execute_result"
    }
   ],
   "source": [
    "nltk.FreqDist(rb_adj_p).most_common(10)\n",
    "#frequency 50 top adjective phrase"
   ],
   "metadata": {
    "collapsed": false,
    "pycharm": {
     "name": "#%%\n"
    }
   }
  },
  {
   "cell_type": "code",
   "execution_count": 240,
   "outputs": [
    {
     "data": {
      "text/plain": "[('broadcast rewritten ', 17),\n ('solely responsible ', 11),\n ('more likely ', 8),\n ('only temporary ', 6),\n ('relatively mild ', 5),\n ('still possible ', 5),\n ('collide due ', 5),\n ('more contact ', 5),\n ('currently undergoing ', 4),\n ('singapore bangkok ', 4)]"
     },
     "execution_count": 240,
     "metadata": {},
     "output_type": "execute_result"
    }
   ],
   "source": [
    "nltk.FreqDist(rb_adj_n).most_common(10)\n",
    "#frequency 50 top adjective phrase"
   ],
   "metadata": {
    "collapsed": false,
    "pycharm": {
     "name": "#%%\n"
    }
   }
  },
  {
   "cell_type": "code",
   "execution_count": 241,
   "outputs": [],
   "source": [
    "adj_tags = {'JJ', 'JJS', 'JJR'}\n",
    "#label of adjective words"
   ],
   "metadata": {
    "collapsed": false,
    "pycharm": {
     "name": "#%%\n"
    }
   }
  },
  {
   "cell_type": "code",
   "execution_count": 247,
   "outputs": [],
   "source": [
    "adj_pos_p=[]\n",
    "adj_pos_n=[]\n",
    "adj_stop_words=[]\n",
    "\n",
    "for w in ['january','u.s.','new','south','china','own','chinese','trump','other','white','united','carson','first','last','human','next','wuhan','holiday','nevada','thursday','friday']:\n",
    "    adj_stop_words.append(w)\n",
    "\n",
    "for word,pos in list_pos_p:\n",
    "    if len(word)>2:\n",
    "        #by looking the data, most len(word)<2 are useless in this case\n",
    "\n",
    "        if (pos in adj_tags):\n",
    "            if word not in adj_stop_words:\n",
    "                adj_pos_p.append(word)\n",
    "\n",
    "for word,pos in list_pos_n:\n",
    "    if len(word)>2:\n",
    "        #by looking the data, most len(word)<2 are useless in this case\n",
    "\n",
    "        if (pos in adj_tags):\n",
    "            if word not in adj_stop_words:\n",
    "                adj_pos_n.append(word)"
   ],
   "metadata": {
    "collapsed": false,
    "pycharm": {
     "name": "#%%\n"
    }
   }
  },
  {
   "cell_type": "code",
   "execution_count": 248,
   "outputs": [
    {
     "data": {
      "text/plain": "[('local', 222),\n ('anywhere', 206),\n ('canadian', 197),\n ('global', 162),\n ('more', 147),\n ('associated', 132),\n ('latest', 114),\n ('international', 113),\n ('public', 97),\n ('related', 96),\n ('raw', 80),\n ('fotografo', 73),\n ('top', 69),\n ('novel', 68),\n ('relevant', 59),\n ('coronavirus', 50),\n ('such', 46),\n ('outbreak', 46),\n ('popular', 45),\n ('same', 45),\n ('medical', 44),\n ('additional', 42),\n ('february', 42),\n ('american', 42),\n ('armenian', 42),\n ('full', 40),\n ('recent', 39),\n ('national', 38),\n ('economic', 38),\n ('daily', 37),\n ('common', 36),\n ('david', 36),\n ('most', 36),\n ('read', 35),\n ('australian', 35),\n ('live', 33),\n ('india', 33),\n ('preventative', 33),\n ('typical', 33),\n ('foreign', 33),\n ('best', 32),\n ('original', 31),\n ('human-to-human', 31),\n ('due', 31),\n ('good', 31),\n ('inbox', 30),\n ('official', 30),\n ('open', 29),\n ('prime', 29),\n ('important', 28)]"
     },
     "execution_count": 248,
     "metadata": {},
     "output_type": "execute_result"
    }
   ],
   "source": [
    "FreqDist(adj_pos_p).most_common(50)"
   ],
   "metadata": {
    "collapsed": false,
    "pycharm": {
     "name": "#%%\n"
    }
   }
  },
  {
   "cell_type": "code",
   "execution_count": 249,
   "outputs": [
    {
     "data": {
      "text/plain": "[('more', 428),\n ('latest', 300),\n ('global', 143),\n ('associated', 124),\n ('top', 118),\n ('related', 115),\n ('canadian', 107),\n ('under-19', 94),\n ('local', 91),\n ('additional', 90),\n ('australian', 83),\n ('medical', 83),\n ('potential', 82),\n ('icc', 81),\n ('public', 75),\n ('international', 74),\n ('daily', 66),\n ('due', 66),\n ('london', 63),\n ('free', 63),\n ('confirmed', 60),\n ('national', 59),\n ('coronavirus', 58),\n ('anywhere', 54),\n ('least', 53),\n ('outbreak', 52),\n ('good', 50),\n ('economic', 50),\n ('responsible', 47),\n ('similar', 45),\n ('such', 44),\n ('likely', 42),\n ('british', 42),\n ('hong', 41),\n ('https', 41),\n ('total', 41),\n ('novel', 40),\n ('sure', 40),\n ('low', 40),\n ('nick', 40),\n ('close', 38),\n ('full', 37),\n ('original', 36),\n ('direct', 35),\n ('official', 35),\n ('financial', 35),\n ('possible', 35),\n ('same', 35),\n ('deadly', 35),\n ('foreign', 34)]"
     },
     "execution_count": 249,
     "metadata": {},
     "output_type": "execute_result"
    }
   ],
   "source": [
    "FreqDist(adj_pos_n).most_common(50)"
   ],
   "metadata": {
    "collapsed": false,
    "pycharm": {
     "name": "#%%\n"
    }
   }
  }
 ],
 "metadata": {
  "kernelspec": {
   "display_name": "Python 3",
   "language": "python",
   "name": "python3"
  },
  "language_info": {
   "codemirror_mode": {
    "name": "ipython",
    "version": 2
   },
   "file_extension": ".py",
   "mimetype": "text/x-python",
   "name": "python",
   "nbconvert_exporter": "python",
   "pygments_lexer": "ipython2",
   "version": "2.7.6"
  }
 },
 "nbformat": 4,
 "nbformat_minor": 0
}